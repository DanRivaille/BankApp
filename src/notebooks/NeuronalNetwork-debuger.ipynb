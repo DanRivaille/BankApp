{
  "nbformat": 4,
  "nbformat_minor": 0,
  "metadata": {
    "colab": {
      "name": "NeuronalNetwork.ipynb",
      "provenance": [],
      "collapsed_sections": [],
      "authorship_tag": "ABX9TyM7N/I+GHZThCQFxeBCfYq6",
      "include_colab_link": true
    },
    "kernelspec": {
      "name": "python3",
      "display_name": "Python 3"
    },
    "language_info": {
      "name": "python"
    }
  },
  "cells": [
    {
      "cell_type": "markdown",
      "metadata": {
        "id": "view-in-github",
        "colab_type": "text"
      },
      "source": [
        "<a href=\"https://colab.research.google.com/github/DanRivaille/BankApp/blob/master/src/notebooks/NeuronalNetwork-debuger.ipynb\" target=\"_parent\"><img src=\"https://colab.research.google.com/assets/colab-badge.svg\" alt=\"Open In Colab\"/></a>"
      ]
    },
    {
      "cell_type": "markdown",
      "metadata": {
        "id": "jGaRFENrQ4eA"
      },
      "source": [
        "# Definición de la neurona\n",
        "Se define la estructura de la neurona, la cual contendrá toda la información necesaria para que pueda realizar las operaciones que requiere."
      ]
    },
    {
      "cell_type": "code",
      "metadata": {
        "id": "sYgHZilTQjDS"
      },
      "source": [
        "import random\n",
        "\n",
        "class Neuron:\n",
        "  def __init__(self, function, value=0.0, id=None):\n",
        "    self.value = value\n",
        "    self.id = id\n",
        "    self.funct = function\n",
        "    self.der_funct = lambda x: self.funct(x) * (1 - self.funct(x))\n",
        "    self.nodes_layer = []\n",
        "    self.weights_layer = []\n",
        "\n",
        "\n",
        "  def add_layer(self, weights_layer=None, values_layer=None, nodes_layer=None):\n",
        "    cant_nodes = 0\n",
        "\n",
        "    if nodes_layer != None:\n",
        "      self.nodes_layer = nodes_layer\n",
        "      cant_nodes = len(nodes_layer)\n",
        "    else:\n",
        "      self.nodes_layer = [Neuron(self.funct, v) for v in values_layer]\n",
        "      cant_nodes = len(values_layer)\n",
        "      \n",
        "    if weights_layer != None:\n",
        "      self.weights_layer = weights_layer\n",
        "    else:\n",
        "      self.weights_layer = [random.random() for v in range(cant_nodes)]\n",
        "\n",
        "\n",
        "  def calculate_value(self):\n",
        "    sum = 0.0\n",
        "    for (index, node) in enumerate(self.nodes_layer):\n",
        "      sum += node.value * self.weights_layer[index]\n",
        "\n",
        "    self.value = self.funct(sum)\n",
        "    return self.value"
      ],
      "execution_count": 64,
      "outputs": []
    },
    {
      "cell_type": "markdown",
      "metadata": {
        "id": "IY8Y7_yAYmI8"
      },
      "source": [
        "## Probando la neurona\n",
        "Se realizan algunas pruebas para verificar que todas las funciones las realiza de una forma correcta.\n",
        "  Se crea una neurona que use la función sigmoide como función de activación, luego se le agrega una capa a partir de los valores que deberian tener los nodos. Por ultimo se calcula el valor activado de la neurona."
      ]
    },
    {
      "cell_type": "code",
      "metadata": {
        "colab": {
          "base_uri": "https://localhost:8080/"
        },
        "id": "BIUBPfFwRnij",
        "outputId": "e390b4e6-0d20-4f97-eb29-6b9e7e13b852"
      },
      "source": [
        "import math\n",
        "\n",
        "def sigmoide(x):\n",
        "  return 1 / (1 + math.exp(-x))\n",
        "\n",
        "values = [0.34, 0.99, 0.03]\n",
        "weights = [0.5, 4.7, 40.07]\n",
        "\n",
        "n = Neuron(sigmoide)\n",
        "n.add_layer(weights, values_layer=values)\n",
        "\n",
        "n.calculate_value()"
      ],
      "execution_count": 65,
      "outputs": [
        {
          "output_type": "execute_result",
          "data": {
            "text/plain": [
              "0.9975885194712779"
            ]
          },
          "metadata": {
            "tags": []
          },
          "execution_count": 65
        }
      ]
    },
    {
      "cell_type": "markdown",
      "metadata": {
        "id": "0-sbtsvXZoCo"
      },
      "source": [
        "# Definición de la red neuronal\n",
        "Se defina la estructura de la red neuronal, la cual tendra las funciones básicas para que pueda operar."
      ]
    },
    {
      "cell_type": "code",
      "metadata": {
        "id": "MwZ6RtNqZ4yG"
      },
      "source": [
        "class NeuronalNetwork:\n",
        "  def __init__(self, cant_input, cant_output, function):\n",
        "    self.input_layer = [Neuron(function, id=(0, i + 1)) for i in range(cant_input)]\n",
        "    self.output_layer = [Neuron(function, id=(-1, i + 1)) for i in range(cant_output)]\n",
        "    self.hidden_layers = []\n",
        "\n",
        "  def is_empty(self):\n",
        "    return len(self.hidden_layers) == 0\n",
        "\n",
        "  def get_function(self):\n",
        "    return self.input_layer[0].funct\n",
        "\n",
        "  def add_layers(self, layers):\n",
        "    # Se obtiene la malla\n",
        "    self.hidden_layers = self._make_connections(layers)\n",
        "\n",
        "    wi = [[0.1, 0.2, 0.15], [0.5, 0.01, 0.1]]\n",
        "    wo = [[0.5, 0.6, 0.4], [0.3, 0.7, 0.1]]\n",
        "\n",
        "\n",
        "    j = 0\n",
        "    # Se conecta el principio de la malla con la capa de entrada\n",
        "    for node in self.hidden_layers[0]:\n",
        "      node.add_layer(nodes_layer=self.input_layer, weights_layer=wi[j])\n",
        "      j += 1\n",
        "\n",
        "    j = 0\n",
        "    # Se conecta la capa de salida con el final de la malla\n",
        "    for node in self.output_layer:\n",
        "      node.add_layer(nodes_layer=self.hidden_layers[-1], weights_layer=wo[j])\n",
        "      j += 1\n",
        "\n",
        "\n",
        "  def predict(self, input):\n",
        "    # Se copian los valores del input en los nodos de la capa de entrada\n",
        "    for (index, value) in enumerate(input):\n",
        "      self.input_layer[index].value = value\n",
        "\n",
        "    # Se calculan los valores de las capas ocultas\n",
        "    for layer in self.hidden_layers:\n",
        "      for node in layer:\n",
        "        node.calculate_value()\n",
        "        print(f'{node.id}: {node.value}')\n",
        "\n",
        "    # Se calcula la salida\n",
        "    for node in self.output_layer:\n",
        "      node.calculate_value()\n",
        "\n",
        "    return [node.value for node in self.output_layer]\n",
        "\n",
        "\n",
        "  def _make_connections(self, layers):\n",
        "    '''\n",
        "    Realiza las conexiones entre las capas ingresadas, y retorna una malla de \n",
        "    la red neuronal (sin entrada ni salida)\n",
        "    '''\n",
        "    nodes_mesh = self._create_mesh(layers)\n",
        "    length = len(layers)\n",
        "\n",
        "    # For debug\n",
        "    ws = [[0.9, 0.8], [1.2], [0.7], [2.4]]\n",
        "\n",
        "    j = 0\n",
        "\n",
        "    for i in range(1, length):\n",
        "      for node in nodes_mesh[i]:\n",
        "        node.add_layer(nodes_layer=nodes_mesh[i - 1], weights_layer=ws[j])\n",
        "        j += 1\n",
        "\n",
        "    return nodes_mesh\n",
        "\n",
        "\n",
        "  def _create_mesh(self, layers):\n",
        "    '''\n",
        "    Crea una malla de capas, pero sin conecciones entre ellas\n",
        "    '''\n",
        "    nodes_mesh = []\n",
        "    function = self.get_function()\n",
        "\n",
        "    for current_layer in layers:\n",
        "      new_nodes_layer = [Neuron(function, id=(current_layer, j + 1)) for j in range(current_layer)] # for debug\n",
        "      #new_nodes_layer = [current_layer for j in range(current_layer)]  # for debug\n",
        "      #new_nodes_layer = [Neuron(function) for j in range(current_layer)]\n",
        "      nodes_mesh.append(new_nodes_layer)\n",
        "\n",
        "    return nodes_mesh"
      ],
      "execution_count": 66,
      "outputs": []
    },
    {
      "cell_type": "code",
      "metadata": {
        "id": "35r6lNMOgIlp"
      },
      "source": [
        "layers = [2, 1, 3]\n",
        "\n",
        "nn = NeuronalNetwork(3, 2, sigmoide)\n",
        "nn.add_layers(layers)"
      ],
      "execution_count": 67,
      "outputs": []
    },
    {
      "cell_type": "code",
      "metadata": {
        "id": "QA-sN9K9gwyF"
      },
      "source": [
        "# For debugging\n",
        "def show_mesh(mesh):\n",
        "  for layer in mesh:\n",
        "    for node in layer:\n",
        "      for (index, neight) in enumerate(node.nodes_layer):\n",
        "        print(f'{node.id} -> {neight.id}  w: {node.weights_layer[index]} v:{node.value}')"
      ],
      "execution_count": 68,
      "outputs": []
    },
    {
      "cell_type": "code",
      "metadata": {
        "colab": {
          "base_uri": "https://localhost:8080/"
        },
        "id": "neTZSeIqj26t",
        "outputId": "cd87b8b5-4300-4d7c-e404-f4db35b0df58"
      },
      "source": [
        "d = 0.7577062\n",
        "sigmoide(d)"
      ],
      "execution_count": 69,
      "outputs": [
        {
          "output_type": "execute_result",
          "data": {
            "text/plain": [
              "0.6808555179487173"
            ]
          },
          "metadata": {
            "tags": []
          },
          "execution_count": 69
        }
      ]
    },
    {
      "cell_type": "code",
      "metadata": {
        "colab": {
          "base_uri": "https://localhost:8080/"
        },
        "id": "L22u1SuDkhyS",
        "outputId": "240a7e97-4ff0-446c-e1a5-ae31f130d061"
      },
      "source": [
        "x = [3, 4.7, 7.8]\n",
        "print(nn.predict(x))"
      ],
      "execution_count": 70,
      "outputs": [
        {
          "output_type": "stream",
          "text": [
            "(2, 1): 0.9175866818720871\n",
            "(2, 2): 0.9110886178193712\n",
            "(1, 1): 0.8255913643076517\n",
            "(3, 1): 0.7292280661883805\n",
            "(3, 2): 0.6405872662931253\n",
            "(3, 3): 0.8788323762765039\n",
            "[0.7503536558116913, 0.6802808435747466]\n"
          ],
          "name": "stdout"
        }
      ]
    },
    {
      "cell_type": "code",
      "metadata": {
        "colab": {
          "base_uri": "https://localhost:8080/"
        },
        "id": "r_ZCJzrobHvG",
        "outputId": "81bceb97-9ba9-4043-e642-e2b0da5501d0"
      },
      "source": [
        "print('cantidad de nodos de la capa anterior al primer nodo de la primera capa oculta:', len(nn.hidden_layers[0][0].nodes_layer))\n",
        "\n",
        "mesh = nn._make_connections(layers)\n",
        "show_mesh(mesh)\n",
        "print()\n",
        "\n",
        "mesh = nn.hidden_layers\n",
        "mesh.insert(0, nn.input_layer)\n",
        "mesh.append(nn.output_layer)\n",
        "\n",
        "print('cantidad de capas totales:', len(mesh))\n",
        "\n",
        "show_mesh(mesh)\n",
        "mesh"
      ],
      "execution_count": 71,
      "outputs": [
        {
          "output_type": "stream",
          "text": [
            "cantidad de nodos de la capa anterior al primer nodo de la primera capa oculta: 3\n",
            "(1, 1) -> (2, 1)  w: 0.9 v:0.0\n",
            "(1, 1) -> (2, 2)  w: 0.8 v:0.0\n",
            "(3, 1) -> (1, 1)  w: 1.2 v:0.0\n",
            "(3, 2) -> (1, 1)  w: 0.7 v:0.0\n",
            "(3, 3) -> (1, 1)  w: 2.4 v:0.0\n",
            "\n",
            "cantidad de capas totales: 5\n",
            "(2, 1) -> (0, 1)  w: 0.1 v:0.9175866818720871\n",
            "(2, 1) -> (0, 2)  w: 0.2 v:0.9175866818720871\n",
            "(2, 1) -> (0, 3)  w: 0.15 v:0.9175866818720871\n",
            "(2, 2) -> (0, 1)  w: 0.5 v:0.9110886178193712\n",
            "(2, 2) -> (0, 2)  w: 0.01 v:0.9110886178193712\n",
            "(2, 2) -> (0, 3)  w: 0.1 v:0.9110886178193712\n",
            "(1, 1) -> (2, 1)  w: 0.9 v:0.8255913643076517\n",
            "(1, 1) -> (2, 2)  w: 0.8 v:0.8255913643076517\n",
            "(3, 1) -> (1, 1)  w: 1.2 v:0.7292280661883805\n",
            "(3, 2) -> (1, 1)  w: 0.7 v:0.6405872662931253\n",
            "(3, 3) -> (1, 1)  w: 2.4 v:0.8788323762765039\n",
            "(-1, 1) -> (3, 1)  w: 0.5 v:0.7503536558116913\n",
            "(-1, 1) -> (3, 2)  w: 0.6 v:0.7503536558116913\n",
            "(-1, 1) -> (3, 3)  w: 0.4 v:0.7503536558116913\n",
            "(-1, 2) -> (3, 1)  w: 0.3 v:0.6802808435747466\n",
            "(-1, 2) -> (3, 2)  w: 0.7 v:0.6802808435747466\n",
            "(-1, 2) -> (3, 3)  w: 0.1 v:0.6802808435747466\n"
          ],
          "name": "stdout"
        },
        {
          "output_type": "execute_result",
          "data": {
            "text/plain": [
              "[[<__main__.Neuron at 0x7f8a9d86ca10>,\n",
              "  <__main__.Neuron at 0x7f8a9d86c750>,\n",
              "  <__main__.Neuron at 0x7f8a9d86c610>],\n",
              " [<__main__.Neuron at 0x7f8a9d86c650>, <__main__.Neuron at 0x7f8a9d86c510>],\n",
              " [<__main__.Neuron at 0x7f8a9d8df590>],\n",
              " [<__main__.Neuron at 0x7f8a9d8df3d0>,\n",
              "  <__main__.Neuron at 0x7f8a9d8df890>,\n",
              "  <__main__.Neuron at 0x7f8a9d8dff50>],\n",
              " [<__main__.Neuron at 0x7f8a9d86c350>, <__main__.Neuron at 0x7f8a9d86cad0>]]"
            ]
          },
          "metadata": {
            "tags": []
          },
          "execution_count": 71
        }
      ]
    }
  ]
}